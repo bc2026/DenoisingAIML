{
  "nbformat": 4,
  "nbformat_minor": 0,
  "metadata": {
    "colab": {
      "provenance": [],
      "authorship_tag": "ABX9TyNbDJh+ZFDMaDeARQLLV0eV",
      "include_colab_link": true
    },
    "kernelspec": {
      "name": "python3",
      "display_name": "Python 3"
    },
    "language_info": {
      "name": "python"
    }
  },
  "cells": [
    {
      "cell_type": "markdown",
      "metadata": {
        "id": "view-in-github",
        "colab_type": "text"
      },
      "source": [
        "<a href=\"https://colab.research.google.com/github/bc2026/DenoisingSIAIML/blob/main/ML.ipynb\" target=\"_parent\"><img src=\"https://colab.research.google.com/assets/colab-badge.svg\" alt=\"Open In Colab\"/></a>"
      ]
    },
    {
      "cell_type": "code",
      "source": [
        "import os\n",
        "import numpy as np\n",
        "import pandas as pd\n",
        "from skimage import io, morphology, filters, measure\n",
        "from skimage.morphology import remove_small_objects\n",
        "from skimage.measure import regionprops\n",
        "from matplotlib import pyplot as plt\n",
        "from scipy.ndimage import gaussian_filter\n",
        "from scipy.ndimage import label\n",
        "from scipy.ndimage import center_of_mass, find_objects\n",
        "from scipy.spatial.distance import pdist\n",
        "from sklearn.model_selection import train_test_split\n",
        "\n",
        "import cv2\n",
        "from PIL import Image\n",
        "import math\n",
        "from scipy.signal import wiener\n",
        "import tifffile as tiff\n",
        "import glob\n",
        "from google.colab import drive\n",
        "drive.mount('/content/drive/', force_remount=True)\n",
        "print(\"Imports successful.\")\n",
        "os.getcwd()"
      ],
      "metadata": {
        "colab": {
          "base_uri": "https://localhost:8080/",
          "height": 70
        },
        "id": "EHozQazmSPWE",
        "outputId": "3a2508e3-f959-4d8b-8ee7-09b92e5bb492"
      },
      "execution_count": null,
      "outputs": [
        {
          "output_type": "stream",
          "name": "stdout",
          "text": [
            "Mounted at /content/drive/\n",
            "Imports successful.\n"
          ]
        },
        {
          "output_type": "execute_result",
          "data": {
            "text/plain": [
              "'/content'"
            ],
            "application/vnd.google.colaboratory.intrinsic+json": {
              "type": "string"
            }
          },
          "metadata": {},
          "execution_count": 2
        }
      ]
    },
    {
      "cell_type": "code",
      "source": [
        "xslx_files = glob.glob('/content/drive/MyDrive/Prof._Lee_Research/Process/Particle P1_C1_S1_11/result/*.xlsx')\n",
        "tif_files = glob.glob('/content/drive/MyDrive/Prof._Lee_Research/cell/*.tif')\n",
        "savingPath = '/content/drive/MyDrive/Prof._Lee_Research/Process/Particle P1_C1_S1_11/'\n",
        "annoPath = savingPath + \"annotated_frames/\"\n",
        "\n",
        "path_to_data = xslx_files[0]\n",
        "path_to_tiff = tif_files[0]\n",
        "\n",
        "dfs = pd.read_excel(path_to_data, sheet_name=None)\n",
        "df =  dfs['Sheet1']\n",
        "\n",
        "df_X = df['centroidGlobalColX']\n",
        "df_Y = df['centroidGlobalRowY']\n",
        "\n",
        "# Predefined radius for bounding box\n",
        "r = 100\n",
        "ret, images = cv2.imreadmulti(path_to_tiff, [], cv2.IMREAD_ANYCOLOR)"
      ],
      "metadata": {
        "id": "tNpjWYIOsWx5"
      },
      "execution_count": null,
      "outputs": []
    },
    {
      "cell_type": "code",
      "source": [
        "import cv2\n",
        "import numpy as np\n",
        "import os\n",
        "\n",
        "img_paths = []\n",
        "label_paths = []\n",
        "\n",
        "# Define the save path\n",
        "os.makedirs(annoPath, exist_ok=True)  # Ensure the directory exists\n",
        "\n",
        "if len(df_X) == len(df_Y):\n",
        "  for i in range(len(df_X)):\n",
        "    # Select the first image\n",
        "    image = images[i]  # Assuming this is a PIL image or NumPy array\n",
        "    image = cv2.cvtColor(np.array(image), cv2.COLOR_RGB2BGR)  # Convert to OpenCV format\n",
        "\n",
        "    # Coordinates and parameters\n",
        "    X = df_X[i]  # X-coordinate\n",
        "    Y = df_Y[i]  # Y-coordinate\n",
        "    r = 10  # Radius for rectangle size\n",
        "\n",
        "    start_point = (int(X + r), int(Y + r))\n",
        "    end_point = (int(X - r), int(Y - r))\n",
        "\n",
        "    # Draw the rectangle\n",
        "    color = (255, 0, 0)  # Blue in BGR\n",
        "    thickness = 2  # Rectangle thickness\n",
        "    annotated_image = cv2.rectangle(image, start_point, end_point, color, thickness)\n",
        "\n",
        "\n",
        "    os.makedirs(f'{annoPath}png', exist_ok=True)  # Ensure the directory exists\n",
        "    os.makedirs(f'{annoPath}txt', exist_ok=True)  # Ensure the directory exists\n",
        "\n",
        "\n",
        "    # Save the annotated image\n",
        "    annotated_image_path = os.path.join(f'{annoPath}png', f\"annotated_frame_{i+1}.png\")\n",
        "    cv2.imwrite(annotated_image_path, annotated_image)\n",
        "\n",
        "\n",
        "    img_height, img_width = image.shape[:2]\n",
        "\n",
        "    x_center_norm = X / img_width\n",
        "    y_center_norm = Y / img_height\n",
        "    width_norm = (2*r)  / img_width\n",
        "    height_norm = (2*r) / img_height\n",
        "\n",
        "\n",
        "\n",
        "    with open(f'{annoPath}txt/annotated_frame_{i+1}.txt', \"w\") as f:\n",
        "      f.write(f\"0 {x_center_norm} {y_center_norm} {width_norm} {height_norm}\\n\")\n",
        "\n",
        "    img_paths.append(annotated_image_path)\n",
        "    label_paths.append(f'{annoPath}txt/annotated_frame_{i+1}.txt')\n",
        "\n",
        "else: print(\"X and Y coords do not match\")\n"
      ],
      "metadata": {
        "id": "eXTjzCVBSP2s"
      },
      "execution_count": null,
      "outputs": []
    },
    {
      "cell_type": "code",
      "source": [],
      "metadata": {
        "id": "NWD04V41kwgA"
      },
      "execution_count": null,
      "outputs": []
    }
  ]
}